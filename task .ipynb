{
 "cells": [
  {
   "cell_type": "code",
   "execution_count": 30,
   "id": "61f144cc",
   "metadata": {},
   "outputs": [
    {
     "name": "stdout",
     "output_type": "stream",
     "text": [
      "2\n",
      "3\n",
      "5\n",
      "7\n",
      "11\n",
      "13\n",
      "17\n",
      "19\n",
      "23\n",
      "29\n",
      "31\n",
      "37\n",
      "41\n",
      "43\n",
      "47\n",
      "53\n",
      "59\n",
      "61\n",
      "67\n",
      "71\n",
      "73\n",
      "79\n",
      "83\n",
      "89\n",
      "97\n",
      "101\n",
      "103\n",
      "107\n",
      "109\n",
      "113\n",
      "127\n",
      "131\n",
      "137\n",
      "139\n",
      "149\n",
      "151\n",
      "157\n",
      "163\n",
      "167\n",
      "173\n",
      "179\n",
      "181\n",
      "191\n",
      "193\n",
      "197\n",
      "199\n",
      "211\n",
      "223\n",
      "227\n",
      "229\n",
      "233\n",
      "239\n",
      "241\n",
      "251\n",
      "257\n",
      "263\n",
      "269\n",
      "271\n",
      "277\n",
      "281\n",
      "283\n",
      "293\n",
      "307\n",
      "311\n",
      "313\n",
      "317\n",
      "331\n",
      "337\n",
      "347\n",
      "349\n",
      "353\n",
      "359\n",
      "367\n",
      "373\n",
      "379\n",
      "383\n",
      "389\n",
      "397\n",
      "401\n",
      "409\n",
      "419\n",
      "421\n",
      "431\n",
      "433\n",
      "439\n",
      "443\n",
      "449\n",
      "457\n",
      "461\n",
      "463\n",
      "467\n",
      "479\n",
      "487\n",
      "491\n",
      "499\n",
      "503\n",
      "509\n",
      "521\n",
      "523\n",
      "541\n",
      "547\n",
      "557\n",
      "563\n",
      "569\n",
      "571\n",
      "577\n",
      "587\n",
      "593\n",
      "599\n",
      "601\n",
      "607\n",
      "613\n",
      "617\n",
      "619\n",
      "631\n",
      "641\n",
      "643\n",
      "647\n",
      "653\n",
      "659\n",
      "661\n",
      "673\n",
      "677\n",
      "683\n",
      "691\n",
      "701\n",
      "709\n",
      "719\n",
      "727\n",
      "733\n",
      "739\n",
      "743\n",
      "751\n",
      "757\n",
      "761\n",
      "769\n",
      "773\n",
      "787\n",
      "797\n",
      "809\n",
      "811\n",
      "821\n",
      "823\n",
      "827\n",
      "829\n",
      "839\n",
      "853\n",
      "857\n",
      "859\n",
      "863\n",
      "877\n",
      "881\n",
      "883\n",
      "887\n",
      "907\n",
      "911\n",
      "919\n",
      "929\n",
      "937\n",
      "941\n",
      "947\n",
      "953\n",
      "967\n",
      "971\n",
      "977\n",
      "983\n",
      "991\n",
      "997\n"
     ]
    }
   ],
   "source": [
    "#q1. try to print a prime number between 1 - 1000\n",
    "def primes():\n",
    "    for num in range(1,1000):\n",
    "        if num > 1:\n",
    "            for i in range(2,num):\n",
    "                if (num % i) == 0:\n",
    "                    break\n",
    "            else:\n",
    "                print(num)\n",
    "primes()\n",
    "      "
   ]
  },
  {
   "cell_type": "code",
   "execution_count": 38,
   "id": "e8896385",
   "metadata": {},
   "outputs": [
    {
     "name": "stdout",
     "output_type": "stream",
     "text": [
      "0\n"
     ]
    }
   ],
   "source": [
    "#q2. write a function which is equivalent to print function using python\n",
    "\n",
    "def mul(x,y=0):\n",
    "    \n",
    "    return x*y\n",
    "print(mul(5))\n",
    "    "
   ]
  },
  {
   "cell_type": "code",
   "execution_count": 2,
   "id": "d769b380",
   "metadata": {},
   "outputs": [
    {
     "name": "stdout",
     "output_type": "stream",
     "text": [
      "[-900, 34, 56, 78, 67]\n"
     ]
    }
   ],
   "source": [
    "#q3. try to write a function which is replace of list append extend and pop function\n",
    "#append\n",
    "a = [34,56,78,67]\n",
    "a.insert(-500,-900)\n",
    "print(a)\n"
   ]
  },
  {
   "cell_type": "code",
   "execution_count": 4,
   "id": "50075fa5",
   "metadata": {},
   "outputs": [
    {
     "name": "stdout",
     "output_type": "stream",
     "text": [
      "[-900, 34, 56, 78, 67]\n"
     ]
    }
   ],
   "source": [
    "#extend\n",
    "a = [34,56,78,67]\n",
    "a.insert(-500,-900)\n",
    "print(a)\n"
   ]
  },
  {
   "cell_type": "code",
   "execution_count": 9,
   "id": "9a8a43ef",
   "metadata": {},
   "outputs": [
    {
     "name": "stdout",
     "output_type": "stream",
     "text": [
      "The Original Set :  {'Cherry', 'Kiwi', 20, 'Apple', 'Mango', 10, 30}\n",
      "\n",
      "pop Item              :  Cherry\n",
      "The Set After pop       :  {'Kiwi', 20, 'Apple', 'Mango', 10, 30}\n",
      "\n",
      "pop Item              : Kiwi\n",
      "The Set After pop       :  {20, 'Apple', 'Mango', 10, 30}\n"
     ]
    }
   ],
   "source": [
    "#pop\n",
    "d={\"Mango\", 10, \"Cherry\", 20, \"Apple\", 30, \"Kiwi\"}\n",
    "print(\"The Original Set : \",d)\n",
    "\n",
    "x=d.pop()\n",
    "print(\"\\npop Item              : \", x)\n",
    "print(\"The Set After pop       : \", d)\n",
    "\n",
    "y=d.pop()\n",
    "print(\"\\npop Item              :\", y)\n",
    "print(\"The Set After pop       : \", d)"
   ]
  },
  {
   "cell_type": "code",
   "execution_count": 10,
   "id": "94b8a7ea",
   "metadata": {},
   "outputs": [
    {
     "name": "stdout",
     "output_type": "stream",
     "text": [
      "$99.00\n",
      "$123,456,789.10\n",
      "6.50%\n",
      "50.00%\n"
     ]
    }
   ],
   "source": [
    "#q4. try to write lambda function which can return a concatination of all the string that we will pass\n",
    "currency = lambda n : f\"${n:,.2f}\"\n",
    "percent = lambda n : f\"{n:.2%}\"\n",
    "\n",
    "print(currency(99))\n",
    "print(currency(123456789.09876543))\n",
    "\n",
    "print(percent(0.065))\n",
    "print(percent(.5))"
   ]
  },
  {
   "cell_type": "code",
   "execution_count": 32,
   "id": "2cb38936",
   "metadata": {},
   "outputs": [
    {
     "name": "stdout",
     "output_type": "stream",
     "text": [
      "[1, 4, 9, 16, 25, 36, 49, 64, 81, 100, 121, 144, 169, 196, 225, 256, 289, 324, 361, 400, 441, 484, 529, 576, 625, 676, 729, 784, 841, 900, 961, 1024, 1089, 1156, 1225, 1296, 1369, 1444, 1521, 1600, 1681, 1764, 1849, 1936, 2025, 2116, 2209, 2304, 2401, 2500, 2601, 2704, 2809, 2916, 3025, 3136, 3249, 3364, 3481, 3600, 3721, 3844, 3969, 4096, 4225, 4356, 4489, 4624, 4761, 4900, 5041, 5184, 5329, 5476, 5625, 5776, 5929, 6084, 6241, 6400, 6561, 6724, 6889, 7056, 7225, 7396, 7569, 7744, 7921, 8100, 8281, 8464, 8649, 8836, 9025, 9216, 9409, 9604, 9801]\n"
     ]
    }
   ],
   "source": [
    "#q5. Try to write a lambda function which can return a list of square of all the data between 1 - 100\n",
    "\n",
    "int = range(1,100)\n",
    "square = list(map(lambda x : x * x, int))\n",
    "print(square)"
   ]
  },
  {
   "cell_type": "code",
   "execution_count": null,
   "id": "5bc3517a",
   "metadata": {},
   "outputs": [],
   "source": []
  },
  {
   "cell_type": "code",
   "execution_count": 37,
   "id": "7de82a02",
   "metadata": {},
   "outputs": [
    {
     "name": "stdout",
     "output_type": "stream",
     "text": [
      "10 20 30 40 "
     ]
    }
   ],
   "source": [
    "#q6. try to write different different examples of lambda function with a choice of your task\n",
    "\n",
    "#1\n",
    "l=[1,2,3,4]\n",
    "l = map(lambda x : x * 10, l)\n",
    "for num in l:\n",
    "    print(num, end=\" \")"
   ]
  },
  {
   "cell_type": "code",
   "execution_count": 38,
   "id": "49caec91",
   "metadata": {},
   "outputs": [
    {
     "name": "stdout",
     "output_type": "stream",
     "text": [
      "7\n",
      "12\n"
     ]
    }
   ],
   "source": [
    "#2\n",
    "x = lambda a, b: a + b\n",
    "print(x(3,4))\n",
    "\n",
    "x = lambda a, b: a * b\n",
    "print(x(3,4))"
   ]
  },
  {
   "cell_type": "code",
   "execution_count": 40,
   "id": "cb1b5487",
   "metadata": {},
   "outputs": [
    {
     "name": "stdout",
     "output_type": "stream",
     "text": [
      "4 6 8 "
     ]
    }
   ],
   "source": [
    "#3\n",
    "l1=[3,4,6,7,8]\n",
    "l1=filter(lambda x : x % 2 == 0, l1)\n",
    "\n",
    "for num in l1:\n",
    "    print(num, end=\" \")"
   ]
  },
  {
   "cell_type": "code",
   "execution_count": 41,
   "id": "7d065fa7",
   "metadata": {},
   "outputs": [
    {
     "name": "stdout",
     "output_type": "stream",
     "text": [
      "<map object at 0x000001FFBA109EB0>\n",
      "[9604, 5776, 2916, 1156]\n"
     ]
    }
   ],
   "source": [
    "#3.\n",
    "num = [98,76,54,34]\n",
    "square = map(lambda n : n ** 2,num)\n",
    "\n",
    "print(square)\n",
    "print(list(square))"
   ]
  },
  {
   "cell_type": "code",
   "execution_count": 42,
   "id": "2b8cc97f",
   "metadata": {},
   "outputs": [
    {
     "name": "stdout",
     "output_type": "stream",
     "text": [
      "5\n"
     ]
    }
   ],
   "source": [
    "#4.\n",
    "add_one = lambda x : x +1\n",
    "print(add_one(4))"
   ]
  },
  {
   "cell_type": "code",
   "execution_count": 43,
   "id": "8221ebe3",
   "metadata": {},
   "outputs": [
    {
     "name": "stdout",
     "output_type": "stream",
     "text": [
      "10\n"
     ]
    }
   ],
   "source": [
    "#5. \n",
    "double = lambda x : x * 2\n",
    "\n",
    "print(double(5))"
   ]
  },
  {
   "cell_type": "code",
   "execution_count": 45,
   "id": "f8be0434",
   "metadata": {},
   "outputs": [
    {
     "name": "stdout",
     "output_type": "stream",
     "text": [
      "[4, 6, 8, 12]\n"
     ]
    }
   ],
   "source": [
    "#6.\n",
    "l2 = [1,5,4,6,8,11,3,12]\n",
    "new_list = list(filter(lambda x : (x%2 == 0) , l2))\n",
    "\n",
    "print(new_list)"
   ]
  },
  {
   "cell_type": "code",
   "execution_count": 46,
   "id": "cbc7a5ed",
   "metadata": {},
   "outputs": [
    {
     "name": "stdout",
     "output_type": "stream",
     "text": [
      "[2, 10, 8, 12, 16, 22, 6, 24]\n"
     ]
    }
   ],
   "source": [
    "#7.\n",
    "l3 = [1,5,4,6,8,11,3,12]\n",
    "new_list = list(map(lambda x : x * 2 , l2))\n",
    "print(new_list)"
   ]
  },
  {
   "cell_type": "code",
   "execution_count": 47,
   "id": "f72fd3e7",
   "metadata": {},
   "outputs": [
    {
     "name": "stdout",
     "output_type": "stream",
     "text": [
      "total = 60\n"
     ]
    }
   ],
   "source": [
    "#8. \n",
    "total = lambda n1, n2, n3 : n1 + n2 +n3\n",
    "\n",
    "print(f'total = {total(10, 20, 30)}')"
   ]
  },
  {
   "cell_type": "code",
   "execution_count": 49,
   "id": "b10cd89d",
   "metadata": {},
   "outputs": [
    {
     "name": "stdout",
     "output_type": "stream",
     "text": [
      "Addition\n",
      "50\n",
      "Multiplication Values\n",
      "400\n",
      "Subtraction\n",
      "210\n"
     ]
    }
   ],
   "source": [
    "#9.\n",
    "print(\"Addition\")\n",
    "add = lambda : 10 + 40\n",
    "print(add())\n",
    "\n",
    "print(\"Multiplication Values\")\n",
    "mul = lambda : 10 * 40\n",
    "print(mul())\n",
    "\n",
    "print(\"Subtraction\")\n",
    "sub = lambda : 220 - 10\n",
    "print(sub())\n"
   ]
  },
  {
   "cell_type": "code",
   "execution_count": 50,
   "id": "928b0c58",
   "metadata": {},
   "outputs": [
    {
     "name": "stdout",
     "output_type": "stream",
     "text": [
      "HelloPython\n"
     ]
    }
   ],
   "source": [
    "#10\n",
    "title = \"HelloPython\"\n",
    "(lambda title: print(title))(title)"
   ]
  },
  {
   "cell_type": "code",
   "execution_count": 53,
   "id": "432817d3",
   "metadata": {},
   "outputs": [
    {
     "name": "stdout",
     "output_type": "stream",
     "text": [
      "welcome\n"
     ]
    }
   ],
   "source": [
    "#q7. try to write a function which can perform read an operation . txt\n",
    "f=open(\"C:\\\\Users\\\\ADMIN\\\\OneDrive\\\\Desktop\\\\abc.txt\",\"r\")\n",
    "data=f.read(100)\n",
    "print(data)"
   ]
  },
  {
   "cell_type": "code",
   "execution_count": null,
   "id": "520dde7b",
   "metadata": {},
   "outputs": [],
   "source": []
  }
 ],
 "metadata": {
  "kernelspec": {
   "display_name": "Python 3 (ipykernel)",
   "language": "python",
   "name": "python3"
  },
  "language_info": {
   "codemirror_mode": {
    "name": "ipython",
    "version": 3
   },
   "file_extension": ".py",
   "mimetype": "text/x-python",
   "name": "python",
   "nbconvert_exporter": "python",
   "pygments_lexer": "ipython3",
   "version": "3.9.12"
  }
 },
 "nbformat": 4,
 "nbformat_minor": 5
}
